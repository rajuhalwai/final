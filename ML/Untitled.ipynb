{
 "cells": [
  {
   "cell_type": "markdown",
   "id": "0606a4c3-38ea-4243-9bd6-7a179c350c45",
   "metadata": {},
   "source": [
    "# image show using opencv"
   ]
  },
  {
   "cell_type": "code",
   "execution_count": null,
   "id": "9e4aa3d8-43ba-48c4-99f8-373e73819c92",
   "metadata": {},
   "outputs": [],
   "source": [
    "import cv2\n",
    "img = cv2.imread(\"abc.jpg\")\n",
    "cv2.imshow(\"grace collage\",img)\n",
    "cv2.waitKey(100000)\n",
    "cv2.destroyAllWindows()"
   ]
  },
  {
   "cell_type": "code",
   "execution_count": null,
   "id": "dc9ae17f-e853-4dc6-8c19-8b7c09a69f6a",
   "metadata": {},
   "outputs": [],
   "source": []
  }
 ],
 "metadata": {
  "kernelspec": {
   "display_name": "Python 3 (ipykernel)",
   "language": "python",
   "name": "python3"
  },
  "language_info": {
   "codemirror_mode": {
    "name": "ipython",
    "version": 3
   },
   "file_extension": ".py",
   "mimetype": "text/x-python",
   "name": "python",
   "nbconvert_exporter": "python",
   "pygments_lexer": "ipython3",
   "version": "3.12.7"
  }
 },
 "nbformat": 4,
 "nbformat_minor": 5
}
