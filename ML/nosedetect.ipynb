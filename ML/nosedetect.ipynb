{
 "cells": [
  {
   "cell_type": "code",
   "execution_count": null,
   "id": "28d57625-e448-4378-bd0b-c8d56625e611",
   "metadata": {},
   "outputs": [],
   "source": [
    "import cv2\n",
    "crick1 = cv2.imread('harbhajan.jpg',1)\n",
    "gray_img = cv2.cvtColor(crick1, cv2.COLOR_BGR2GRAY)\n",
    "\n",
    "haar_cascade = cv2.CascadeClassifier('haarcascade_frontalface_default.xml')\n",
    "#eye_cascade = cv2.CascadeClassifier('haarcascade_eye.xml')\n",
    "mouth_cascade = cv2.CascadeClassifier('haarcascade_mcs_mouth.xml')\n",
    "\n",
    "faces = haar_cascade.detectMultiScale(gray_img,1.3,5)\n",
    "\n",
    "for (x, y, w, h) in faces:\n",
    "    cv2.rectangle(crick1, (x, y), (x+w, y+h), (255, 0, 0), 2)\n",
    "    roi_gray = gray_img[y:y+h, x:x+w]\n",
    "    roi_color = crick1[y:y+h, x:x+w]\n",
    "\n",
    "    #eyes = eye_cascade.detectMultiScale(roi_gray)\n",
    "    mouth = mouth_cascade.detectMultiScale(roi_gray)\n",
    "                         #eyes\n",
    "    for (ex,ey,ew,eh) in mouth:\n",
    "        cv2.rectangle(roi_color,(ex,ey),(ex+ew,ey+eh),(255,0,0),2)\n",
    "cv2.imshow('Face Detection', crick1)\n",
    "cv2.waitKey(0)\n",
    "cv2.destroyAllWindows()"
   ]
  },
  {
   "cell_type": "code",
   "execution_count": null,
   "id": "a7abe066-9c6b-4ec5-be51-c2aa3ce43ef4",
   "metadata": {},
   "outputs": [],
   "source": []
  }
 ],
 "metadata": {
  "kernelspec": {
   "display_name": "Python 3 (ipykernel)",
   "language": "python",
   "name": "python3"
  },
  "language_info": {
   "codemirror_mode": {
    "name": "ipython",
    "version": 3
   },
   "file_extension": ".py",
   "mimetype": "text/x-python",
   "name": "python",
   "nbconvert_exporter": "python",
   "pygments_lexer": "ipython3",
   "version": "3.12.7"
  }
 },
 "nbformat": 4,
 "nbformat_minor": 5
}
