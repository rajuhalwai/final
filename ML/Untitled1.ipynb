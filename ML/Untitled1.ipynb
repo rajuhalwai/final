{
 "cells": [
  {
   "cell_type": "markdown",
   "id": "cc9f1667-1b74-48f6-8f2d-5454de894cac",
   "metadata": {},
   "source": [
    "# detecting face and nose"
   ]
  },
  {
   "cell_type": "code",
   "execution_count": null,
   "id": "58e7dd47-649e-4511-80ae-92d4ffdd5679",
   "metadata": {},
   "outputs": [],
   "source": [
    "import cv2\n",
    "crick1 = cv2.imread('harbhajan.jpg',1)\n",
    "gray_img = cv2.cvtColor(crick1, cv2.COLOR_BGR2GRAY)\n",
    "\n",
    "haar_cascade = cv2.CascadeClassifier('haarcascade_frontalface_default.xml')\n",
    "#eye_cascade = cv2.CascadeClassifier('haarcascade_eye.xml')\n",
    "nose_cascade = cv2.CascadeClassifier('haarcascade_mcs_nose.xml')\n",
    "\n",
    "faces = haar_cascade.detectMultiScale(gray_img,1.3,5)\n",
    "\n",
    "for (x, y, w, h) in faces:\n",
    "    cv2.rectangle(crick1, (x, y), (x+w, y+h), (255, 0, 0), 2)\n",
    "    roi_gray = gray_img[y:y+h, x:x+w]\n",
    "    roi_color = crick1[y:y+h, x:x+w]\n",
    "\n",
    "    #eyes = eye_cascade.detectMultiScale(roi_gray)\n",
    "    nose = nose_cascade.detectMultiScale(roi_gray)\n",
    "                         #eyes\n",
    "    for (ex,ey,ew,eh) in nose:\n",
    "        cv2.rectangle(roi_color,(ex,ey),(ex+ew,ey+eh),(255,0,0),2)\n",
    "cv2.imshow('Face Detection', crick1)\n",
    "cv2.waitKey(0)\n",
    "cv2.destroyAllWindows()"
   ]
  },
  {
   "cell_type": "markdown",
   "id": "7a176f01-4d7b-4d65-87ff-983770084284",
   "metadata": {},
   "source": [
    "# detecting face and mouth"
   ]
  },
  {
   "cell_type": "code",
   "execution_count": null,
   "id": "81a8adbf-8b53-411b-b29a-5520de424ef1",
   "metadata": {},
   "outputs": [],
   "source": [
    "import cv2\n",
    "crick1 = cv2.imread('harbhajan.jpg',1)\n",
    "gray_img = cv2.cvtColor(crick1, cv2.COLOR_BGR2GRAY)\n",
    "\n",
    "haar_cascade = cv2.CascadeClassifier('haarcascade_frontalface_default.xml')\n",
    "\n",
    "mouth_cascade = cv2.CascadeClassifier('haarcascade_mcs_mouth.xml')\n",
    "\n",
    "faces = haar_cascade.detectMultiScale(gray_img,1.3,5)\n",
    "\n",
    "for (x, y, w, h) in faces:\n",
    "    cv2.rectangle(crick1, (x, y), (x+w, y+h), (255, 0, 0), 2)\n",
    "    roi_gray = gray_img[y:y+h, x:x+w]\n",
    "    roi_color = crick1[y:y+h, x:x+w]\n",
    "\n",
    "    \n",
    "    mouth = mouth_cascade.detectMultiScale(roi_gray)\n",
    "                         \n",
    "    for (ex,ey,ew,eh) in mouth:\n",
    "        cv2.rectangle(roi_color,(ex,ey),(ex+ew,ey+eh),(255,0,0),2)\n",
    "cv2.imshow('Face Detection', crick1)\n",
    "cv2.waitKey(0)\n",
    "cv2.destroyAllWindows()"
   ]
  },
  {
   "cell_type": "markdown",
   "id": "f5bf2f59-5d12-4fbe-a1ab-c5f5f676c7d9",
   "metadata": {},
   "source": [
    "# detecting face and mouth"
   ]
  },
  {
   "cell_type": "code",
   "execution_count": null,
   "id": "0b8421c3-9efa-449d-acf0-5b8e972da87e",
   "metadata": {},
   "outputs": [],
   "source": [
    "import cv2\n",
    "crick1 = cv2.imread('virat.jpg',1)\n",
    "gray_img = cv2.cvtColor(crick1, cv2.COLOR_BGR2GRAY)\n",
    "\n",
    "haar_cascade = cv2.CascadeClassifier('haarcascade_frontalface_default.xml')\n",
    "#eye_cascade = cv2.CascadeClassifier('haarcascade_eye.xml')\n",
    "mouth_cascade = cv2.CascadeClassifier('haarcascade_mcs_mouth.xml')\n",
    "\n",
    "faces = haar_cascade.detectMultiScale(gray_img,1.3,5)\n",
    "\n",
    "for (x, y, w, h) in faces:\n",
    "    cv2.rectangle(crick1, (x, y), (x+w, y+h), (255, 0, 0), 2)\n",
    "    roi_gray = gray_img[y:y+h, x:x+w]\n",
    "    roi_color = crick1[y:y+h, x:x+w]\n",
    "\n",
    "    #eyes = eye_cascade.detectMultiScale(roi_gray)\n",
    "    mouth = mouth_cascade.detectMultiScale(roi_gray)\n",
    "                         #eyes\n",
    "    for (ex,ey,ew,eh) in mouth:\n",
    "        cv2.rectangle(roi_color,(ex,ey),(ex+ew,ey+eh),(255,0,0),2)\n",
    "cv2.imshow('Face Detection', crick1)\n",
    "cv2.waitKey(0)\n",
    "cv2.destroyAllWindows()"
   ]
  },
  {
   "cell_type": "code",
   "execution_count": null,
   "id": "3c68b5dd-aa6f-4222-8a28-1a2e93ef23a8",
   "metadata": {},
   "outputs": [],
   "source": []
  }
 ],
 "metadata": {
  "kernelspec": {
   "display_name": "Python 3 (ipykernel)",
   "language": "python",
   "name": "python3"
  },
  "language_info": {
   "codemirror_mode": {
    "name": "ipython",
    "version": 3
   },
   "file_extension": ".py",
   "mimetype": "text/x-python",
   "name": "python",
   "nbconvert_exporter": "python",
   "pygments_lexer": "ipython3",
   "version": "3.12.7"
  }
 },
 "nbformat": 4,
 "nbformat_minor": 5
}
