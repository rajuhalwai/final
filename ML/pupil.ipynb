{
 "cells": [
  {
   "cell_type": "markdown",
   "id": "dc6013fd-93c5-42d8-8e36-fb7b3959adb7",
   "metadata": {},
   "source": [
    "# detecting face,eyes and pupil"
   ]
  },
  {
   "cell_type": "code",
   "execution_count": null,
   "id": "2dd0610a-2a82-41af-b122-f4794e51f1bf",
   "metadata": {},
   "outputs": [],
   "source": [
    "import cv2\n",
    "crick1 = cv2.imread('harbhajan.jpg',1)\n",
    "gray_img = cv2.cvtColor(crick1, cv2.COLOR_BGR2GRAY)\n",
    "\n",
    "haar_cascade = cv2.CascadeClassifier('haarcascade_frontalface_default.xml')\n",
    "mouth_cascade = cv2.CascadeClassifier('haarcascade_mcs_mouth.xml')\n",
    "nose_cascade = cv2.CascadeClassifier('haarcascade_mcs_nose.xml')\n",
    "eye_cascade = cv2.CascadeClassifier('haarcascade_eye.xml')\n",
    "\n",
    "\n",
    "faces = haar_cascade.detectMultiScale(gray_img,1.3,5)\n",
    "\n",
    "for (x, y, w, h) in faces:\n",
    "    cv2.rectangle(crick1, (x, y), (x+w, y+h), (255, 0, 0), 2)\n",
    "    roi_gray = gray_img[y:y+h, x:x+w]\n",
    "    roi_color = crick1[y:y+h, x:x+w]\n",
    "\n",
    "    eyes = eye_cascade.detectMultiScale(roi_gray)\n",
    "\n",
    "    for (ex,ey,ew,eh) in eyes:\n",
    "        cv2.rectangle(roi_color,(ex,ey),(ex+ew,ey+eh),(255,0,0),2)\n",
    "\n",
    "        eye_roi_gray = roi_gray[ey:ey+eh, ex:ex+ew]\n",
    "        eye_roi_color = roi_color[ey:ey+eh, ex:ex+ew]\n",
    "\n",
    "        _, eye_thresh = cv2.threshold(eye_roi_gray, 50, 255, cv2.THRESH_BINARY_INV)\n",
    "        contours, _ = cv2.findContours(eye_thresh, cv2.RETR_TREE, cv2.CHAIN_APPROX_SIMPLE)\n",
    "\n",
    "        if len(contours) > 0:\n",
    "            pupil = max(contours, key=cv2.contourArea)\n",
    "            x1, y1, w1, h1 = cv2.boundingRect(pupil)\n",
    "            center = (int(x1 + w1/2), int(y1 + h1/2))\n",
    "            cv2.circle(eye_roi_color, center, 3, (0, 0, 255),-1)\n",
    "            \n",
    "cv2.imshow('Face Detection', crick1)\n",
    "cv2.waitKey(0)\n",
    "cv2.destroyAllWindows()"
   ]
  },
  {
   "cell_type": "code",
   "execution_count": null,
   "id": "d300c452-24f9-461b-91d5-5b2484353454",
   "metadata": {},
   "outputs": [],
   "source": []
  }
 ],
 "metadata": {
  "kernelspec": {
   "display_name": "Python 3 (ipykernel)",
   "language": "python",
   "name": "python3"
  },
  "language_info": {
   "codemirror_mode": {
    "name": "ipython",
    "version": 3
   },
   "file_extension": ".py",
   "mimetype": "text/x-python",
   "name": "python",
   "nbconvert_exporter": "python",
   "pygments_lexer": "ipython3",
   "version": "3.12.7"
  }
 },
 "nbformat": 4,
 "nbformat_minor": 5
}
