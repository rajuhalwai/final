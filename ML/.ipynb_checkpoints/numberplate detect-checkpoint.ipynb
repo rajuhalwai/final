{
 "cells": [
  {
   "cell_type": "markdown",
   "id": "afc45702-bba5-43dd-8853-50cff2ba147f",
   "metadata": {},
   "source": [
    "# licence plate detection"
   ]
  },
  {
   "cell_type": "code",
   "execution_count": null,
   "id": "11d8fcc9-87fb-478e-bbbe-dea59ee2d545",
   "metadata": {},
   "outputs": [],
   "source": [
    "import cv2\n",
    "import numpy as np\n",
    "\n",
    "\n",
    "\n",
    "faceCascade = cv2.CascadeClassifier('haarcascade_russian_plate_number.xml')\n",
    "\n",
    "img = cv2.imread('car4.jpg')\n",
    "gray = cv2.cvtColor(img, cv2.COLOR_BGR2GRAY)\n",
    "\n",
    "faces = faceCascade.detectMultiScale(gray,scaleFactor=1.2,\n",
    "    minNeighbors = 5, minSize=(25,25))\n",
    "\n",
    "for (x,y,w,h) in faces:\n",
    "    cv2.rectangle(gray,(x,y),(x+w,y+h),(255,0,0),2)\n",
    "    plate = gray[y: y+h, x:x+w]\n",
    "    plate = cv2.blur(plate,ksize=(20,20))\n",
    "    # put the blurred plate into the original image\n",
    "    gray[y: y+h, x:x+w] = plate\n",
    "\n",
    "cv2.imshow('plates',gray)\n",
    "if cv2.waitKey(0) & 0xFF == ord('q'):\n",
    "    cv2.destroyAllWindows()"
   ]
  },
  {
   "cell_type": "markdown",
   "id": "e8ba9e32-401f-49ae-9982-c4944c03c9cc",
   "metadata": {},
   "source": [
    "# licence plate detect using video"
   ]
  },
  {
   "cell_type": "code",
   "execution_count": null,
   "id": "ac34bb76-a748-4ba4-9d27-98e26709b731",
   "metadata": {},
   "outputs": [],
   "source": [
    "import cv2\n",
    "import numpy as np\n",
    "\n",
    "carPlatesCascade = cv2.CascadeClassifier('haarcascade_russian_plate_number.xml')\n",
    "\n",
    "cap = cv2.VideoCapture('carVideo.mp4')\n",
    "\n",
    "cap.set(cv2.CAP_PROP_FRAME_WIDTH, 320)\n",
    "cap.set(cv2.CAP_PROP_FRAME_HEIGHT, 80)\n",
    "\n",
    "\n",
    "if (cap.isOpened()==False):\n",
    "    print('Error Reading video')\n",
    "\n",
    "while True:\n",
    "    ret,frame = cap.read()\n",
    "    gray = cv2.cvtColor(frame,cv2.COLOR_BGR2GRAY)\n",
    "    car_plates = carPlatesCascade.detectMultiScale(gray,scaleFactor=1.2,\n",
    "    minNeighbors = 5, minSize=(25,25))\n",
    "\n",
    "    for (x,y,w,h) in car_plates:\n",
    "        cv2.rectangle(frame,(x,y),(x+w,y+h),(255,0,0),2)\n",
    "        plate = frame[y: y+h, x:x+w]\n",
    "        plate = cv2.blur(plate,ksize=(20,20))\n",
    "        # put the blurred plate into the original image\n",
    "        #frame[y: y+h, x:x+w,2] = plate\n",
    "\n",
    "    if ret == True:\n",
    "        cv2.imshow('Video',frame)\n",
    "    \n",
    "        if cv2.waitKey(0) & 0xFF == ord('q'):\n",
    "            break\n",
    "    \n",
    "    else:\n",
    "        break\n",
    "\n",
    "cap.release()\n",
    "cv2.destroyAllWindows()"
   ]
  },
  {
   "cell_type": "code",
   "execution_count": null,
   "id": "04b450b5-3d3a-499e-9f82-0db8ca09c6bf",
   "metadata": {},
   "outputs": [],
   "source": [
    "import cv2\n",
    "import numpy as np\n",
    "\n",
    "carPlatesCascade = cv2.CascadeClassifier('haarcascade_russian_plate_number.xml')\n",
    "\n",
    "cap = cv2.VideoCapture('vid.mp4')\n",
    "\n",
    "cap.set(cv2.CAP_PROP_FRAME_WIDTH, 320)\n",
    "cap.set(cv2.CAP_PROP_FRAME_HEIGHT, 80)\n",
    "\n",
    "if not cap.isOpened():\n",
    "    print('Error Reading video')\n",
    "\n",
    "while True:\n",
    "    ret, frame = cap.read()\n",
    "    if not ret:\n",
    "        break\n",
    "\n",
    "    gray = cv2.cvtColor(frame, cv2.COLOR_BGR2GRAY)\n",
    "    car_plates = carPlatesCascade.detectMultiScale(gray, scaleFactor=1.2,\n",
    "                                                   minNeighbors=5, minSize=(25, 25))\n",
    "\n",
    "    for (x, y, w, h) in car_plates:\n",
    "        cv2.rectangle(frame, (x, y), (x + w, y + h), (255, 0, 0), 2)\n",
    "        plate = frame[y: y + h, x: x + w]\n",
    "        plate = cv2.blur(plate, ksize=(20, 20))\n",
    "\n",
    "        # Replace the entire plate area (all 3 channels) in the original frame\n",
    "        frame[y: y + h, x: x + w] = plate\n",
    "\n",
    "    if ret:\n",
    "        cv2.imshow('Video', frame)\n",
    "\n",
    "        if cv2.waitKey(1) & 0xFF == ord('q'):\n",
    "            break\n",
    "\n",
    "cap.release()\n",
    "cv2.destroyAllWindows()"
   ]
  },
  {
   "cell_type": "code",
   "execution_count": null,
   "id": "5423d909-c075-4fbd-b147-f9bbb62456d5",
   "metadata": {},
   "outputs": [],
   "source": []
  }
 ],
 "metadata": {
  "kernelspec": {
   "display_name": "Python 3 (ipykernel)",
   "language": "python",
   "name": "python3"
  },
  "language_info": {
   "codemirror_mode": {
    "name": "ipython",
    "version": 3
   },
   "file_extension": ".py",
   "mimetype": "text/x-python",
   "name": "python",
   "nbconvert_exporter": "python",
   "pygments_lexer": "ipython3",
   "version": "3.12.7"
  }
 },
 "nbformat": 4,
 "nbformat_minor": 5
}
